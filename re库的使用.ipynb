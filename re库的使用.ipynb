{
 "cells": [
  {
   "cell_type": "markdown",
   "source": [
    "# re库使用\n",
    "## re.match函数"
   ],
   "metadata": {
    "collapsed": false,
    "pycharm": {
     "name": "#%% md\n"
    }
   }
  },
  {
   "cell_type": "code",
   "execution_count": 8,
   "outputs": [
    {
     "name": "stdout",
     "text": [
      "123\n",
      "None\n"
     ],
     "output_type": "stream"
    }
   ],
   "source": [
    "import re\n",
    "x=\"123a456b789c\"\n",
    "a=re.match(\"123\",x)\n",
    "b=re.match(\"b\",x)\n",
    "print(a.group())\n",
    "print(b)"
   ],
   "metadata": {
    "collapsed": false,
    "pycharm": {
     "name": "#%%\n",
     "is_executing": false
    }
   }
  },
  {
   "cell_type": "markdown",
   "source": [
    "## re.search函数"
   ],
   "metadata": {
    "collapsed": false
   }
  },
  {
   "cell_type": "code",
   "execution_count": 7,
   "outputs": [
    {
     "name": "stdout",
     "text": [
      "a\n",
      "None\n"
     ],
     "output_type": "stream"
    }
   ],
   "source": [
    "import re\n",
    "x=\"123a456b789c\"\n",
    "a=re.search(\"a\",x)\n",
    "d=re.search(\"d\",x)\n",
    "print(a.group())\n",
    "print(d)"
   ],
   "metadata": {
    "collapsed": false,
    "pycharm": {
     "name": "#%%\n",
     "is_executing": false
    }
   }
  },
  {
   "cell_type": "markdown",
   "source": [
    "## re.sub函数"
   ],
   "metadata": {
    "collapsed": false
   }
  },
  {
   "cell_type": "code",
   "execution_count": 9,
   "outputs": [
    {
     "name": "stdout",
     "text": [
      "123456789\n"
     ],
     "output_type": "stream"
    }
   ],
   "source": [
    "import re\n",
    "x=\"123a456b789c\"\n",
    "a=re.sub(\"[a-z]\",\"\",x)\n",
    "# re.sub(被替换的字符正则表达式，替换的字样，目标字符)\n",
    "print(a)"
   ],
   "metadata": {
    "collapsed": false,
    "pycharm": {
     "name": "#%%\n",
     "is_executing": false
    }
   }
  },
  {
   "cell_type": "markdown",
   "source": [
    "## re.compile函数"
   ],
   "metadata": {
    "collapsed": false
   }
  },
  {
   "cell_type": "code",
   "execution_count": 15,
   "outputs": [
    {
     "name": "stdout",
     "text": [
      "None\n",
      "a\n",
      "123456789\n",
      "['a', 'b', 'c']\n"
     ],
     "output_type": "stream"
    }
   ],
   "source": [
    "import re\n",
    "x=\"123a456b789c\"\n",
    "a=re.compile(\"[a-z]\")\n",
    "print(a.match(x))\n",
    "print(a.search(x).group())\n",
    "print(a.sub(\"\",x))\n",
    "print(a.findall(x))"
   ],
   "metadata": {
    "collapsed": false,
    "pycharm": {
     "name": "#%%\n",
     "is_executing": false
    }
   }
  },
  {
   "cell_type": "markdown",
   "source": [
    "## re.findall函数"
   ],
   "metadata": {
    "collapsed": false
   }
  },
  {
   "cell_type": "code",
   "execution_count": 17,
   "outputs": [
    {
     "name": "stdout",
     "text": [
      "['a', 'b', 'c']\n"
     ],
     "output_type": "stream"
    }
   ],
   "source": [
    "import re\n",
    "x=\"123a456b789c\"\n",
    "a=re.findall(\"[a-z]\",x)\n",
    "print(a)"
   ],
   "metadata": {
    "collapsed": false,
    "pycharm": {
     "name": "#%%\n",
     "is_executing": false
    }
   }
  }
 ],
 "metadata": {
  "kernelspec": {
   "display_name": "Python 3",
   "language": "python",
   "name": "python3"
  },
  "language_info": {
   "codemirror_mode": {
    "name": "ipython",
    "version": 2
   },
   "file_extension": ".py",
   "mimetype": "text/x-python",
   "name": "python",
   "nbconvert_exporter": "python",
   "pygments_lexer": "ipython2",
   "version": "2.7.6"
  },
  "pycharm": {
   "stem_cell": {
    "cell_type": "raw",
    "source": [],
    "metadata": {
     "collapsed": false
    }
   }
  }
 },
 "nbformat": 4,
 "nbformat_minor": 0
}